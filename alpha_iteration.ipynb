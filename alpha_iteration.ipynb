{
 "cells": [
  {
   "cell_type": "code",
   "execution_count": 1,
   "id": "d4342814",
   "metadata": {},
   "outputs": [],
   "source": [
    "import numpy as np \n",
    "import pandas as pd\n",
    "import matplotlib.pyplot as plt\n",
    "import networkx as nx"
   ]
  },
  {
   "cell_type": "code",
   "execution_count": 2,
   "id": "73fce269",
   "metadata": {},
   "outputs": [],
   "source": [
    "def num_iter(z):\n",
    "    G = nx.read_edgelist(str(z)+\".txt\", create_using = nx.DiGraph, nodetype=str)\n",
    "    def pg(G, alpha=0.85, personalization=None,\n",
    "                max_iter=1000, tol=1.0e-6, nstart=None, weight='weight',\n",
    "                dangling=None):\n",
    "            \n",
    "        if len(G) == 0:\n",
    "            return {}\n",
    "\n",
    "        if not G.is_directed():\n",
    "            D = G.to_directed()\n",
    "        else:\n",
    "            D = G\n",
    "\n",
    "        # Create a copy in (right) stochastic form\n",
    "        W = nx.stochastic_graph(D, weight=weight)\n",
    "        N = W.number_of_nodes()\n",
    "\n",
    "        # Choose fixed starting vector if not given\n",
    "        if nstart is None:\n",
    "            x = dict.fromkeys(W, 1.0 / N)\n",
    "        else:\n",
    "            # Normalized nstart vector\n",
    "            s = float(sum(nstart.values()))\n",
    "            x = dict((k, v / s) for k, v in nstart.items())\n",
    "\n",
    "        if personalization is None:\n",
    "\n",
    "            # Assign uniform personalization vector if not given\n",
    "            p = dict.fromkeys(W, 1.0 / N)\n",
    "        else:\n",
    "            missing = set(G) - set(personalization)\n",
    "            if missing:\n",
    "                raise NetworkXError('Personalization dictionary '\n",
    "                                    'must have a value for every node. '\n",
    "                                    'Missing nodes %s' % missing)\n",
    "            s = float(sum(personalization.values()))\n",
    "            p = dict((k, v / s) for k, v in personalization.items())\n",
    "\n",
    "        if dangling is None:\n",
    "\n",
    "            # Use personalization vector if dangling vector not specified\n",
    "            dangling_weights = p\n",
    "        else:\n",
    "            missing = set(G) - set(dangling)\n",
    "            if missing:\n",
    "                raise NetworkXError('Dangling node dictionary '\n",
    "                                    'must have a value for every node. '\n",
    "                                    'Missing nodes %s' % missing)\n",
    "            s = float(sum(dangling.values()))\n",
    "            dangling_weights = dict((k, v/s) for k, v in dangling.items())\n",
    "        dangling_nodes = [n for n in W if W.out_degree(n, weight=weight) == 0.0]\n",
    "\n",
    "        # power iteration: make up to max_iter iterations\n",
    "        for i in range(max_iter):\n",
    "            xlast = x\n",
    "            x = dict.fromkeys(xlast.keys(), 0)\n",
    "            danglesum = alpha * sum(xlast[n] for n in dangling_nodes)\n",
    "            for n in x:\n",
    "\n",
    "                # this matrix multiply looks odd because it is\n",
    "                # doing a left multiply x^T=xlast^T*W\n",
    "                for nbr in W[n]:\n",
    "                    x[nbr] += alpha * xlast[n] * W[n][nbr][weight]\n",
    "                x[n] += danglesum * dangling_weights[n] + (1.0 - alpha) * p[n]\n",
    "\n",
    "            # check convergence, l1 norm\n",
    "            err = sum([abs(x[n] - xlast[n]) for n in x])\n",
    "            if err < N*tol:\n",
    "                numb=i\n",
    "                return x,numb\n",
    "            else:\n",
    "                i+=1\n",
    "    pr= pg(G,alpha=0.85)\n",
    "    pr\n",
    "    def rank_by_points(points):\n",
    "        points_dict=points[0].copy()\n",
    "        sorted_points_dict= dict(sorted(points_dict.items(), key=lambda item: item[1],reverse=True))\n",
    "    rank_by_points(pr)\n",
    "    def iter_num(points):\n",
    "        x=points[1]\n",
    "        print(\"When alpha=0.85, the number of iterations:\",x)\n",
    "    iter_num(pr)\n",
    "    def iter_list():\n",
    "        lsty=[]\n",
    "        lstn=[]\n",
    "        for i in range(9):\n",
    "            pr=pg(G,alpha=0.5+i*0.05)\n",
    "            y=0.5+i*0.05\n",
    "            lsty.append(y)\n",
    "            lstn.append(pr[1])\n",
    "            lst_all=list(zip(lsty,lstn))\n",
    "        df=pd.DataFrame(lst_all,columns=[\"Alpha\",\"Number of iterations\"])\n",
    "        print(df)\n",
    "        df.plot(kind = 'scatter',x= 'Alpha',y = 'Number of iterations',color = 'red')\n",
    "        plt.axhline(y=lstn[-2],color=\"g\",linestyle=\"-\")\n",
    "        plt.title(str(z))\n",
    "    iter_list()"
   ]
  },
  {
   "cell_type": "code",
   "execution_count": 3,
   "id": "1e687140",
   "metadata": {},
   "outputs": [
    {
     "name": "stdout",
     "output_type": "stream",
     "text": [
      "When alpha=0.85, the number of iterations: 26\n",
      "   Alpha  Number of iterations\n",
      "0   0.50                     7\n",
      "1   0.55                     8\n",
      "2   0.60                     9\n",
      "3   0.65                    11\n",
      "4   0.70                    13\n",
      "5   0.75                    15\n",
      "6   0.80                    19\n",
      "7   0.85                    26\n",
      "8   0.90                    39\n"
     ]
    },
    {
     "data": {
      "image/png": "[encoded data removed]",
      "text/plain": [
       "<Figure size 432x288 with 1 Axes>"
      ]
     },
     "metadata": {
      "needs_background": "light"
     },
     "output_type": "display_data"
    }
   ],
   "source": [
    "num_iter(\"student\")"
   ]
  },
  {
   "cell_type": "code",
   "execution_count": 4,
   "id": "389d18d7",
   "metadata": {},
   "outputs": [
    {
     "name": "stdout",
     "output_type": "stream",
     "text": [
      "When alpha=0.85, the number of iterations: 33\n",
      "   Alpha  Number of iterations\n",
      "0   0.50                     8\n",
      "1   0.55                    10\n",
      "2   0.60                    11\n",
      "3   0.65                    13\n",
      "4   0.70                    16\n",
      "5   0.75                    19\n",
      "6   0.80                    25\n",
      "7   0.85                    33\n",
      "8   0.90                    48\n"
     ]
    },
    {
     "data": {
      "image/png": "[encoded data removed]",
      "text/plain": [
       "<Figure size 432x288 with 1 Axes>"
      ]
     },
     "metadata": {
      "needs_background": "light"
     },
     "output_type": "display_data"
    }
   ],
   "source": [
    "num_iter(\"staff\")"
   ]
  },
  {
   "cell_type": "code",
   "execution_count": 5,
   "id": "138d6409",
   "metadata": {},
   "outputs": [
    {
     "name": "stdout",
     "output_type": "stream",
     "text": [
      "When alpha=0.85, the number of iterations: 37\n",
      "   Alpha  Number of iterations\n",
      "0   0.50                     9\n",
      "1   0.55                    10\n",
      "2   0.60                    12\n",
      "3   0.65                    14\n",
      "4   0.70                    17\n",
      "5   0.75                    21\n",
      "6   0.80                    27\n",
      "7   0.85                    37\n",
      "8   0.90                    57\n"
     ]
    },
    {
     "data": {
      "image/png": "[encoded data removed]",
      "text/plain": [
       "<Figure size 432x288 with 1 Axes>"
      ]
     },
     "metadata": {
      "needs_background": "light"
     },
     "output_type": "display_data"
    }
   ],
   "source": [
    "num_iter(\"project\")"
   ]
  },
  {
   "cell_type": "code",
   "execution_count": 6,
   "id": "d35706d6",
   "metadata": {},
   "outputs": [
    {
     "name": "stdout",
     "output_type": "stream",
     "text": [
      "When alpha=0.85, the number of iterations: 30\n",
      "   Alpha  Number of iterations\n",
      "0   0.50                     7\n",
      "1   0.55                     9\n",
      "2   0.60                    10\n",
      "3   0.65                    12\n",
      "4   0.70                    14\n",
      "5   0.75                    17\n",
      "6   0.80                    22\n",
      "7   0.85                    30\n",
      "8   0.90                    46\n"
     ]
    },
    {
     "data": {
      "image/png": "[encoded data removed]",
      "text/plain": [
       "<Figure size 432x288 with 1 Axes>"
      ]
     },
     "metadata": {
      "needs_background": "light"
     },
     "output_type": "display_data"
    }
   ],
   "source": [
    "num_iter(\"faculty\")"
   ]
  },
  {
   "cell_type": "code",
   "execution_count": 7,
   "id": "227f7b4a",
   "metadata": {},
   "outputs": [
    {
     "name": "stdout",
     "output_type": "stream",
     "text": [
      "When alpha=0.85, the number of iterations: 23\n",
      "   Alpha  Number of iterations\n",
      "0   0.50                     6\n",
      "1   0.55                     7\n",
      "2   0.60                     8\n",
      "3   0.65                    10\n",
      "4   0.70                    12\n",
      "5   0.75                    14\n",
      "6   0.80                    18\n",
      "7   0.85                    23\n",
      "8   0.90                    33\n"
     ]
    },
    {
     "data": {
      "image/png": "[encoded data removed]",
      "text/plain": [
       "<Figure size 432x288 with 1 Axes>"
      ]
     },
     "metadata": {
      "needs_background": "light"
     },
     "output_type": "display_data"
    }
   ],
   "source": [
    "num_iter(\"course\")"
   ]
  }
 ],
 "metadata": {
  "kernelspec": {
   "display_name": "Python 3",
   "language": "python",
   "name": "python3"
  },
  "language_info": {
   "codemirror_mode": {
    "name": "ipython",
    "version": 3
   },
   "file_extension": ".py",
   "mimetype": "text/x-python",
   "name": "python",
   "nbconvert_exporter": "python",
   "pygments_lexer": "ipython3",
   "version": "3.8.8"
  }
 },
 "nbformat": 4,
 "nbformat_minor": 5
}
